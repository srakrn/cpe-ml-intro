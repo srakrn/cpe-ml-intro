{
 "cells": [
  {
   "cell_type": "markdown",
   "metadata": {},
   "source": [
    "# Handwriting Recognition\n",
    "\n",
    "## Knowing about the MNIST Dataset\n",
    "\n",
    "[MNIST Dataset](http://yann.lecun.com/exdb/mnist/) is collected by Yan LeCun (currently a Director of AI Research, Facebook)\n",
    "\n",
    "MNIST Dataset consists of 6,000 training images and 1,000 testing images of a 28\\*28 pixel handwriting images.\n",
    "\n",
    "Firstly, we'll load the neccessary library and the dataset."
   ]
  },
  {
   "cell_type": "code",
   "execution_count": null,
   "metadata": {},
   "outputs": [],
   "source": [
    "from mlxtend.data import loadlocal_mnist\n",
    "import numpy\n",
    "import matplotlib.pyplot as plt\n",
    "from sklearn.neural_network import MLPClassifier\n",
    "from PIL import Image"
   ]
  },
  {
   "cell_type": "code",
   "execution_count": null,
   "metadata": {},
   "outputs": [],
   "source": [
    "train_images, train_labels = loadlocal_mnist(\n",
    "        images_path='datasets/train-images-idx3-ubyte', \n",
    "        labels_path='datasets/train-labels-idx1-ubyte')"
   ]
  },
  {
   "cell_type": "code",
   "execution_count": null,
   "metadata": {},
   "outputs": [],
   "source": [
    "test_images, test_labels = loadlocal_mnist(\n",
    "        images_path='datasets/t10k-images-idx3-ubyte', \n",
    "        labels_path='datasets/t10k-labels-idx1-ubyte')"
   ]
  },
  {
   "cell_type": "markdown",
   "metadata": {},
   "source": [
    "We'll treat the matrix of size 28\\*28 pixel into a 784-dimension matrix."
   ]
  },
  {
   "cell_type": "code",
   "execution_count": null,
   "metadata": {},
   "outputs": [],
   "source": [
    "train_images_flat = train_images.reshape(60000, -1)\n",
    "test_images_flat = test_images.reshape(10000, -1)"
   ]
  },
  {
   "cell_type": "markdown",
   "metadata": {},
   "source": [
    "Let's see one of our image first..."
   ]
  },
  {
   "cell_type": "code",
   "execution_count": null,
   "metadata": {
    "scrolled": true
   },
   "outputs": [],
   "source": [
    "plt.imshow(test_images[0].reshape(28, 28))\n",
    "plt.title(test_labels[0])\n",
    "plt.show()"
   ]
  },
  {
   "cell_type": "markdown",
   "metadata": {},
   "source": [
    "Initialise the neural network of 1 hidden layers, with a size of 30 perceptrons in each layer respectively."
   ]
  },
  {
   "cell_type": "code",
   "execution_count": null,
   "metadata": {},
   "outputs": [],
   "source": [
    "hidden_layer_sizes = (50, )\n",
    "mlp = MLPClassifier(hidden_layer_sizes=hidden_layer_sizes, max_iter=400, alpha=1e-4,\n",
    "                    solver='sgd', verbose=10, tol=1e-4, random_state=1)"
   ]
  },
  {
   "cell_type": "code",
   "execution_count": null,
   "metadata": {},
   "outputs": [],
   "source": [
    "mlp.fit(train_images_flat, train_labels)"
   ]
  },
  {
   "cell_type": "markdown",
   "metadata": {},
   "source": [
    "## Seeing on how our neural network performs\n",
    "\n",
    "We'll randomly pick a number $n$ from the test image, then see if our model answers the number correctly\n",
    "\n",
    "Here's what our model predict, compared with what the real value is."
   ]
  },
  {
   "cell_type": "code",
   "execution_count": null,
   "metadata": {},
   "outputs": [],
   "source": [
    "n = 0\n",
    "\n",
    "pred_val = mlp.predict([test_images_flat[n]])[0]\n",
    "true_val = test_labels[n]\n",
    "print(\"Predicted: {}, True value: {}\".format(pred_val, true_val))"
   ]
  },
  {
   "cell_type": "markdown",
   "metadata": {},
   "source": [
    "And here's the image..."
   ]
  },
  {
   "cell_type": "code",
   "execution_count": null,
   "metadata": {},
   "outputs": [],
   "source": [
    "plt.imshow(test_images[n])"
   ]
  },
  {
   "cell_type": "markdown",
   "metadata": {},
   "source": [
    "### Trying with our own handwriting\n",
    "\n",
    "Use Microsoft Paint (or any other programmes) to draw a 28\\*28 pixel number (black on white!), then load it with the command below.\n",
    "\n",
    "(My recommendation is to put the image file into `mnist_test` folder)"
   ]
  },
  {
   "cell_type": "code",
   "execution_count": null,
   "metadata": {},
   "outputs": [],
   "source": [
    "file_path = \"mnist_test/0.bmp\"\n",
    "img = Image.open(file_path)\n",
    "img"
   ]
  },
  {
   "cell_type": "markdown",
   "metadata": {},
   "source": [
    "And let our neural network model predict the number."
   ]
  },
  {
   "cell_type": "code",
   "execution_count": null,
   "metadata": {},
   "outputs": [],
   "source": [
    "image = numpy.array(img)[:, :, 0].ravel()\n",
    "mlp.predict([image])"
   ]
  },
  {
   "cell_type": "markdown",
   "metadata": {},
   "source": [
    "### Overall performance"
   ]
  },
  {
   "cell_type": "code",
   "execution_count": null,
   "metadata": {},
   "outputs": [],
   "source": [
    "mlp.score(test_images_flat, test_labels)"
   ]
  },
  {
   "cell_type": "markdown",
   "metadata": {},
   "source": [
    "## Visualisation of the weights\n",
    "\n",
    "As we have 50 hidden layers, we simply could visualise our first layer of the neural network.\n",
    "\n",
    "For any node in the hidden layer, get all the weights input from the input layer, transform back into 28\\*28 pixel matrix, normalise, and plot for the colour."
   ]
  },
  {
   "cell_type": "code",
   "execution_count": null,
   "metadata": {},
   "outputs": [],
   "source": [
    "# Sufficient subplots for all the axis\n",
    "fig, axes = plt.subplots(5, 10, figsize=(10, 5))\n",
    "\n",
    "# Rescale weights to 0-255\n",
    "vmin, vmax = mlp.coefs_[0].min(), mlp.coefs_[0].max()\n",
    "weighted = (mlp.coefs_[0].T-vmin)*255/(vmax-vmin)\n",
    "\n",
    "# Plotting time\n",
    "for coef, ax in zip(weighted, axes.ravel()):\n",
    "    ax.imshow(coef.reshape(28, 28))\n",
    "    ax.set_xticks(())\n",
    "    ax.set_yticks(())"
   ]
  }
 ],
 "metadata": {
  "kernelspec": {
   "display_name": "Python 3",
   "language": "python",
   "name": "python3"
  },
  "language_info": {
   "codemirror_mode": {
    "name": "ipython",
    "version": 3
   },
   "file_extension": ".py",
   "mimetype": "text/x-python",
   "name": "python",
   "nbconvert_exporter": "python",
   "pygments_lexer": "ipython3",
   "version": "3.6.5"
  }
 },
 "nbformat": 4,
 "nbformat_minor": 2
}
